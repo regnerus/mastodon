{
 "cells": [
  {
   "cell_type": "code",
   "execution_count": 6,
   "metadata": {},
   "outputs": [],
   "source": [
    "from collections import Counter\n",
    "import operator\n",
    "import numpy as np\n",
    "import math\n"
   ]
  },
  {
   "cell_type": "code",
   "execution_count": 4,
   "metadata": {},
   "outputs": [],
   "source": [
    "from TfIdf import TfIdf\n",
    "\n",
    "'''Example with DB connection'''\n",
    "\n",
    "import sqlite3\n",
    "conn = sqlite3.connect('data/toots.db')"
   ]
  },
  {
   "cell_type": "code",
   "execution_count": 48,
   "metadata": {},
   "outputs": [],
   "source": [
    "tfidf = TfIdf()\n",
    "\n",
    "day1 = tfidf.getDbTerms(conn, \"2018-06-06 08:00:00.000000+00:00\", \"2018-06-07 08:00:00.000000+00:00\")\n",
    "day2 = tfidf.getDbTerms(conn, \"2018-06-07 08:00:00.000000+00:00\", \"2018-06-08 08:00:00.000000+00:00\")\n",
    "day3 = tfidf.getDbTerms(conn, \"2018-06-08 08:00:00.000000+00:00\", \"2018-06-09 08:00:00.000000+00:00\")\n",
    "day4 = tfidf.getDbTerms(conn, \"2018-06-09 08:00:00.000000+00:00\", \"2018-06-10 08:00:00.000000+00:00\")\n",
    "day5 = tfidf.getDbTerms(conn, \"2018-06-10 08:00:00.000000+00:00\", \"2018-06-11 08:00:00.000000+00:00\")\n",
    "day6 = tfidf.getDbTerms(conn, \"2018-06-11 08:00:00.000000+00:00\", \"2018-06-12 08:00:00.000000+00:00\")\n",
    "\n",
    "total = tfidf.getDbTerms(conn, \"2018-06-06 08:00:00.000000+00:00\", \"2018-06-12 08:00:00.000000+00:00\")"
   ]
  },
  {
   "cell_type": "code",
   "execution_count": 40,
   "metadata": {},
   "outputs": [],
   "source": [
    "def in_n_docs(term, documents):\n",
    "    n = 0\n",
    "    for doc in documents:\n",
    "        if term in doc:\n",
    "            n += 1\n",
    "    \n",
    "    return n\n",
    "\n",
    "def real_tfidf(terms, documents):\n",
    "    term_count = Counter(terms)\n",
    "    tf_idf_array = []\n",
    "\n",
    "    for term in term_count:\n",
    "        tf_idf = term_count[term] * math.log(len(documents) / in_n_docs(term, documents))\n",
    "        tf_idf_array.append((term, tf_idf))\n",
    "    \n",
    "    tf_idf_array.sort(key=operator.itemgetter(1), reverse=True)\n",
    "    return tf_idf_array"
   ]
  },
  {
   "cell_type": "code",
   "execution_count": 41,
   "metadata": {},
   "outputs": [],
   "source": [
    "tfidf_scores = real_tfidf(day2, [day1,day2,day3,day4,day5,day6])"
   ]
  },
  {
   "cell_type": "code",
   "execution_count": 49,
   "metadata": {},
   "outputs": [
    {
     "name": "stdout",
     "output_type": "stream",
     "text": [
      "219667\n",
      "like 333 1685 60.71307841238688\n",
      "duang 52 102 57.12783901074171\n",
      "one 286 1276 52.143965243071015\n",
      "get 258 1105 47.038961652840285\n",
      "com 233 858 42.48092273299142\n",
      "newsbot 36 74 39.55004239205195\n",
      "time 212 1010 38.652170040318374\n",
      "people 210 943 38.287526926730465\n",
      "good 202 883 36.828954472378825\n",
      "want 193 818 35.188060461233235\n"
     ]
    }
   ],
   "source": [
    "def printnScores(terms, total, tfidf_scores, n = 10):\n",
    "    term_count = Counter(terms)\n",
    "    tfidf_scores = tfidf_scores[0:n]\n",
    "    print(len(total))\n",
    "    document_count = Counter(total)\n",
    "    \n",
    "    for r in tfidf_scores:\n",
    "        term = r[0]\n",
    "        print(term, term_count[term], document_count[term], r[1])\n",
    "        \n",
    "printnScores(day2, total, tfidf_scores)"
   ]
  },
  {
   "cell_type": "code",
   "execution_count": null,
   "metadata": {},
   "outputs": [],
   "source": []
  },
  {
   "cell_type": "code",
   "execution_count": null,
   "metadata": {},
   "outputs": [],
   "source": []
  }
 ],
 "metadata": {
  "kernelspec": {
   "display_name": "Python 3",
   "language": "python",
   "name": "python3"
  },
  "language_info": {
   "codemirror_mode": {
    "name": "ipython",
    "version": 3
   },
   "file_extension": ".py",
   "mimetype": "text/x-python",
   "name": "python",
   "nbconvert_exporter": "python",
   "pygments_lexer": "ipython3",
   "version": "3.6.4"
  }
 },
 "nbformat": 4,
 "nbformat_minor": 2
}
